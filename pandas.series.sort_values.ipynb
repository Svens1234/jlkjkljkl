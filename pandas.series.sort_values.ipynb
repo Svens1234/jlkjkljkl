{
 "cells": [
  {
   "cell_type": "code",
   "execution_count": 3,
   "id": "ef8ce472",
   "metadata": {},
   "outputs": [],
   "source": [
    "import pandas as pd\n",
    "import numpy as np"
   ]
  },
  {
   "cell_type": "code",
   "execution_count": 4,
   "id": "bb3587ad",
   "metadata": {},
   "outputs": [],
   "source": [
    "s = pd.Series([np.nan, 1, 3, 10, 5])"
   ]
  },
  {
   "cell_type": "code",
   "execution_count": 5,
   "id": "544ac122",
   "metadata": {},
   "outputs": [
    {
     "data": {
      "text/plain": [
       "0     NaN\n",
       "1     1.0\n",
       "2     3.0\n",
       "3    10.0\n",
       "4     5.0\n",
       "dtype: float64"
      ]
     },
     "execution_count": 5,
     "metadata": {},
     "output_type": "execute_result"
    }
   ],
   "source": [
    "s"
   ]
  },
  {
   "cell_type": "code",
   "execution_count": 6,
   "id": "a7525a32",
   "metadata": {},
   "outputs": [
    {
     "data": {
      "text/plain": [
       "1     1.0\n",
       "2     3.0\n",
       "4     5.0\n",
       "3    10.0\n",
       "0     NaN\n",
       "dtype: float64"
      ]
     },
     "execution_count": 6,
     "metadata": {},
     "output_type": "execute_result"
    }
   ],
   "source": [
    "s.sort_values(ascending=True)"
   ]
  },
  {
   "cell_type": "code",
   "execution_count": 7,
   "id": "15eaa1c7",
   "metadata": {},
   "outputs": [
    {
     "data": {
      "text/plain": [
       "3    10.0\n",
       "4     5.0\n",
       "2     3.0\n",
       "1     1.0\n",
       "0     NaN\n",
       "dtype: float64"
      ]
     },
     "execution_count": 7,
     "metadata": {},
     "output_type": "execute_result"
    }
   ],
   "source": [
    "s.sort_values(ascending=False)"
   ]
  },
  {
   "cell_type": "code",
   "execution_count": 8,
   "id": "391d030d",
   "metadata": {},
   "outputs": [],
   "source": [
    "s.sort_values(ascending=False, inplace=True)"
   ]
  },
  {
   "cell_type": "code",
   "execution_count": 9,
   "id": "d5e30798",
   "metadata": {},
   "outputs": [
    {
     "data": {
      "text/plain": [
       "3    10.0\n",
       "4     5.0\n",
       "2     3.0\n",
       "1     1.0\n",
       "0     NaN\n",
       "dtype: float64"
      ]
     },
     "execution_count": 9,
     "metadata": {},
     "output_type": "execute_result"
    }
   ],
   "source": [
    "s"
   ]
  },
  {
   "cell_type": "code",
   "execution_count": 10,
   "id": "9a7a3fea",
   "metadata": {},
   "outputs": [
    {
     "data": {
      "text/plain": [
       "0     NaN\n",
       "1     1.0\n",
       "2     3.0\n",
       "4     5.0\n",
       "3    10.0\n",
       "dtype: float64"
      ]
     },
     "execution_count": 10,
     "metadata": {},
     "output_type": "execute_result"
    }
   ],
   "source": [
    "s.sort_values(na_position='first')"
   ]
  },
  {
   "cell_type": "code",
   "execution_count": 11,
   "id": "8f57fe30",
   "metadata": {},
   "outputs": [],
   "source": [
    "s = pd.Series(['z', 'b', 'd', 'a', 'c'])"
   ]
  },
  {
   "cell_type": "code",
   "execution_count": 12,
   "id": "4ea2079d",
   "metadata": {},
   "outputs": [
    {
     "data": {
      "text/plain": [
       "0    z\n",
       "1    b\n",
       "2    d\n",
       "3    a\n",
       "4    c\n",
       "dtype: object"
      ]
     },
     "execution_count": 12,
     "metadata": {},
     "output_type": "execute_result"
    }
   ],
   "source": [
    "s"
   ]
  },
  {
   "cell_type": "code",
   "execution_count": 13,
   "id": "dae25f40",
   "metadata": {},
   "outputs": [
    {
     "data": {
      "text/plain": [
       "3    a\n",
       "1    b\n",
       "4    c\n",
       "2    d\n",
       "0    z\n",
       "dtype: object"
      ]
     },
     "execution_count": 13,
     "metadata": {},
     "output_type": "execute_result"
    }
   ],
   "source": [
    "s.sort_values()"
   ]
  },
  {
   "cell_type": "code",
   "execution_count": 14,
   "id": "73a7f352",
   "metadata": {},
   "outputs": [],
   "source": [
    "s = pd.Series(['a', 'B', 'c', 'D', 'e'])"
   ]
  },
  {
   "cell_type": "code",
   "execution_count": 15,
   "id": "609ed998",
   "metadata": {},
   "outputs": [
    {
     "data": {
      "text/plain": [
       "1    B\n",
       "3    D\n",
       "0    a\n",
       "2    c\n",
       "4    e\n",
       "dtype: object"
      ]
     },
     "execution_count": 15,
     "metadata": {},
     "output_type": "execute_result"
    }
   ],
   "source": [
    "s.sort_values()"
   ]
  },
  {
   "cell_type": "code",
   "execution_count": 16,
   "id": "db29f6c2",
   "metadata": {},
   "outputs": [
    {
     "data": {
      "text/plain": [
       "0    a\n",
       "1    B\n",
       "2    c\n",
       "3    D\n",
       "4    e\n",
       "dtype: object"
      ]
     },
     "execution_count": 16,
     "metadata": {},
     "output_type": "execute_result"
    }
   ],
   "source": [
    "s.sort_values(key=lambda x: x.str.lower())"
   ]
  },
  {
   "cell_type": "code",
   "execution_count": 17,
   "id": "1684ed8b",
   "metadata": {},
   "outputs": [],
   "source": [
    "s = pd.Series([-4, -2, 0, 2, 4])"
   ]
  },
  {
   "cell_type": "code",
   "execution_count": 18,
   "id": "ef7236fe",
   "metadata": {},
   "outputs": [
    {
     "data": {
      "text/plain": [
       "1   -2\n",
       "4    4\n",
       "2    0\n",
       "0   -4\n",
       "3    2\n",
       "dtype: int64"
      ]
     },
     "execution_count": 18,
     "metadata": {},
     "output_type": "execute_result"
    }
   ],
   "source": [
    "s.sort_values(key=np.sin)"
   ]
  },
  {
   "cell_type": "code",
   "execution_count": 19,
   "id": "9d0d3319",
   "metadata": {},
   "outputs": [
    {
     "data": {
      "text/plain": [
       "0   -4\n",
       "3    2\n",
       "4    4\n",
       "1   -2\n",
       "2    0\n",
       "dtype: int64"
      ]
     },
     "execution_count": 19,
     "metadata": {},
     "output_type": "execute_result"
    }
   ],
   "source": [
    "s.sort_values(key=lambda x: (np.tan(x.cumsum())))"
   ]
  },
  {
   "cell_type": "code",
   "execution_count": null,
   "id": "afafaae4",
   "metadata": {},
   "outputs": [],
   "source": []
  }
 ],
 "metadata": {
  "kernelspec": {
   "display_name": "Python 3 (ipykernel)",
   "language": "python",
   "name": "python3"
  },
  "language_info": {
   "codemirror_mode": {
    "name": "ipython",
    "version": 3
   },
   "file_extension": ".py",
   "mimetype": "text/x-python",
   "name": "python",
   "nbconvert_exporter": "python",
   "pygments_lexer": "ipython3",
   "version": "3.10.5"
  }
 },
 "nbformat": 4,
 "nbformat_minor": 5
}
